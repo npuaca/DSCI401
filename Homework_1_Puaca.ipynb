{
  "nbformat": 4,
  "nbformat_minor": 0,
  "metadata": {
    "colab": {
      "provenance": []
    },
    "kernelspec": {
      "name": "python3",
      "display_name": "Python 3"
    },
    "language_info": {
      "name": "python"
    }
  },
  "cells": [
    {
      "cell_type": "code",
      "source": [
        "import pandas as pd\n",
        "cubs = pd.read_csv(\"https://raw.githubusercontent.com/gjm112/DSCI401/main/data/cubs_all_time.csv\")\n",
        "\n",
        "# Question 3 - Part a)\n",
        "# Finding the total number of games won and lost between 1876 and 2022\n",
        "cubs_games_won = cubs [(cubs['Year'] >= 1876) & (cubs['Year'] <= 2022)]['W'].sum()\n",
        "cubs_games_lost = cubs[(cubs['Year'] >= 1876) & (cubs['Year'] <= 2022)]['L'].sum()\n",
        "\n",
        "print(\"Between 1876 and 2022, Cubs have won\", cubs_games_won, \"games.\")\n",
        "print(\"Between 1876 and 2022, Cubs have lost\", cubs_games_lost,\"games.\")\n",
        "\n",
        "\n",
        "# Question 3 - Part b)\n",
        "# Finding the years with the most and fewest runs between 1876 and 2022\n",
        "year_most_runs = cubs[cubs['R'] == cubs['R'].max()]['Year'].values[0]\n",
        "cubs_most_runs = cubs[cubs['R'] == cubs['R'].max()]['R'].values[0]\n",
        "year_fewest_runs = cubs[cubs['R'] == cubs['R'].min()]['Year'].values[0]\n",
        "cubs_fewest_runs = cubs[cubs['R'] == cubs['R'].min()]['R'].values[0]\n",
        "\n",
        "print(\"\\nIn\", year_most_runs, \"Cubs scored\", cubs_most_runs,\"runs, this is the most runs recorded between 1876 and 2022.\")\n",
        "print(\"In\", year_fewest_runs, \"Cubs scored\", cubs_fewest_runs,\"runs, this is the fewest runs recorded between 1876 and 2022.\")\n",
        "\n",
        "\n",
        "# Question 3 - Part c)\n",
        "# Counting the seasons when Cubs' attendance was over 3 million\n",
        "attendance_over_3_million = len(cubs[cubs['Attendance'] > 3000000])\n",
        "\n",
        "print(\"\\nThere were\", attendance_over_3_million,\"seasons with a total attendance of over 3 million.\")"
      ],
      "metadata": {
        "colab": {
          "base_uri": "https://localhost:8080/"
        },
        "id": "5sX9K_hCYG93",
        "outputId": "aeec1429-a2c5-4c6d-f4ab-b03aba5f7283"
      },
      "execution_count": null,
      "outputs": [
        {
          "output_type": "stream",
          "name": "stdout",
          "text": [
            "Between 1876 and 2022, Cubs have won 11141 games.\n",
            "Between 1876 and 2022, Cubs have lost 10592 games.\n",
            "\n",
            "In 1894 Cubs scored 1056 runs, this is the most runs recorded between 1876 and 2022.\n",
            "In 2020 Cubs scored 265 runs, this is the fewest runs recorded between 1876 and 2022.\n",
            "\n",
            "There were 12 seasons with a total attendance of over 3 million.\n"
          ]
        }
      ]
    }
  ]
}