{
  "nbformat": 4,
  "nbformat_minor": 0,
  "metadata": {
    "colab": {
      "provenance": []
    },
    "kernelspec": {
      "name": "python3",
      "display_name": "Python 3"
    },
    "language_info": {
      "name": "python"
    }
  },
  "cells": [
    {
      "cell_type": "markdown",
      "source": [
        "Question 1 - Lahman"
      ],
      "metadata": {
        "id": "AesDlcfzIgqJ"
      }
    },
    {
      "cell_type": "code",
      "execution_count": 2,
      "metadata": {
        "id": "-0cFJYgxnQuz",
        "colab": {
          "base_uri": "https://localhost:8080/"
        },
        "outputId": "67279ba0-edb7-48fe-a629-7504fa0b7682"
      },
      "outputs": [
        {
          "output_type": "stream",
          "name": "stdout",
          "text": [
            "  nameFirst   nameLast   HR     SB\n",
            "0    Carlos    Beltran  435  312.0\n",
            "1     Barry      Bonds  762  514.0\n",
            "2     Bobby      Bonds  332  461.0\n",
            "3     Andre     Dawson  438  314.0\n",
            "4     Steve     Finley  304  320.0\n",
            "5    Willie       Mays  660  338.0\n",
            "6      Alex  Rodriguez  696  329.0\n",
            "7    Reggie    Sanders  305  304.0\n"
          ]
        }
      ],
      "source": [
        "import pandas as pd\n",
        "\n",
        "# Loads data\n",
        "batting = pd.read_csv(\"https://raw.githubusercontent.com/gjm112/DSCI401/main/data/Batting.csv\")\n",
        "pitching = pd.read_csv(\"https://raw.githubusercontent.com/gjm112/DSCI401/main/data/Pitching.csv\")\n",
        "people = pd.read_csv(\"https://raw.githubusercontent.com/gjm112/DSCI401/main/data/People.csv\")\n",
        "\n",
        "# Filters for players with at least 300 HR and 300 SB\n",
        "elite_players = batting.groupby('playerID').agg({'HR': 'sum', 'SB': 'sum'}).reset_index()\n",
        "elite_players = elite_players[(elite_players['HR'] >= 300) & (elite_players['SB'] >= 300)]\n",
        "\n",
        "# Joins the result with the player names\n",
        "elite_players_names = pd.merge(elite_players, people[['playerID', 'nameFirst', 'nameLast']], on='playerID')\n",
        "\n",
        "# Shows the result\n",
        "print(elite_players_names[['nameFirst', 'nameLast', 'HR', 'SB']])\n"
      ]
    },
    {
      "cell_type": "code",
      "source": [
        "\n",
        "# Part b)\n",
        "\n",
        "# Filters for players with at least 300 W and 3,000 SO\n",
        "elite_pitchers = pitching.groupby('playerID').agg({'W': 'sum', 'SO': 'sum'}).reset_index()\n",
        "elite_pitchers = elite_pitchers[(elite_pitchers['W'] >= 300) & (elite_pitchers['SO'] >= 3000)]\n",
        "\n",
        "# Joins the result with the players names\n",
        "elite_pitchers_names = pd.merge(elite_pitchers, people[['playerID', 'nameFirst', 'nameLast']], on='playerID')\n",
        "\n",
        "# Shows the result\n",
        "print(elite_pitchers_names[['nameFirst', 'nameLast', 'W', 'SO']])\n"
      ],
      "metadata": {
        "id": "KEQjRKR_QU0s",
        "colab": {
          "base_uri": "https://localhost:8080/"
        },
        "outputId": "0528fef2-2b9b-4efd-d3a4-b55c8e4b2ebd"
      },
      "execution_count": 4,
      "outputs": [
        {
          "output_type": "stream",
          "name": "stdout",
          "text": [
            "  nameFirst nameLast    W    SO\n",
            "0     Steve  Carlton  329  4136\n",
            "1     Roger  Clemens  354  4672\n",
            "2     Randy  Johnson  303  4875\n",
            "3    Walter  Johnson  417  3509\n",
            "4      Greg   Maddux  355  3371\n",
            "5      Phil   Niekro  318  3342\n",
            "6   Gaylord    Perry  314  3534\n",
            "7     Nolan     Ryan  324  5714\n",
            "8       Tom   Seaver  311  3640\n",
            "9       Don   Sutton  324  3574\n"
          ]
        }
      ]
    },
    {
      "cell_type": "code",
      "source": [
        "\n",
        "# Part c)\n",
        "\n",
        "# Converts H and AB to numeric\n",
        "batting['H'] = pd.to_numeric(batting['H'], errors='coerce')\n",
        "batting['AB'] = pd.to_numeric(batting['AB'], errors='coerce')\n",
        "\n",
        "# Creates batting average (BA) column\n",
        "batting['BA'] = batting['H'] / batting['AB']\n",
        "\n",
        "# Filters for seasons with at least 50 HR\n",
        "season_50_hr = batting[(batting['HR'] >= 50)]\n",
        "\n",
        "# Finds the player with the lowest batting average in each season\n",
        "lowest_avg_player_id = season_50_hr.loc[season_50_hr['BA'].idxmin(), 'playerID']\n",
        "\n",
        "# Filters for player name and lowest batting average\n",
        "lowest_avg_player_info = people.loc[people['playerID'] == lowest_avg_player_id, ['nameFirst', 'nameLast', 'playerID']]\n",
        "\n",
        "# Shows the result\n",
        "print(\"Players with at least 50 HR in a season:\")\n",
        "print(season_50_hr[['playerID', 'yearID', 'HR']])\n",
        "\n",
        "# Shows the result\n",
        "print(\"\\nPlayer with the lowest batting average in that season:\")\n",
        "print(lowest_avg_player_info.iloc[0])\n"
      ],
      "metadata": {
        "colab": {
          "base_uri": "https://localhost:8080/"
        },
        "id": "5uLOKs3GTRYp",
        "outputId": "532f2ce4-4ca8-4965-e709-7eb0f0122cd8"
      },
      "execution_count": 28,
      "outputs": [
        {
          "output_type": "stream",
          "name": "stdout",
          "text": [
            "Players with at least 50 HR in a season:\n",
            "         playerID  yearID  HR\n",
            "18533    ruthba01    1920  54\n",
            "19053    ruthba01    1921  59\n",
            "22270    ruthba01    1927  60\n",
            "22800    ruthba01    1928  54\n",
            "23979   wilsoha01    1930  56\n",
            "24653    foxxji01    1932  58\n",
            "27738    foxxji01    1938  50\n",
            "27766   greenha01    1938  58\n",
            "33001   kinerra01    1947  51\n",
            "33103    mizejo01    1947  51\n",
            "34153   kinerra01    1949  54\n",
            "37833    mayswi01    1955  51\n",
            "38466   mantlmi01    1956  52\n",
            "41673   mantlmi01    1961  54\n",
            "41675   marisro01    1961  61\n",
            "44656    mayswi01    1965  52\n",
            "54761   fostege01    1977  52\n",
            "67722   fieldce01    1990  51\n",
            "72979   belleal01    1995  50\n",
            "74181   anderbr01    1996  50\n",
            "74878   mcgwima01    1996  52\n",
            "75834   griffke02    1997  56\n",
            "77078   griffke02    1998  56\n",
            "77404   mcgwima01    1998  70\n",
            "77751    sosasa01    1998  66\n",
            "77856   vaughgr01    1998  50\n",
            "78720   mcgwima01    1999  65\n",
            "79068    sosasa01    1999  63\n",
            "80417    sosasa01    2000  50\n",
            "80767   bondsba01    2001  73\n",
            "81094   gonzalu01    2001  57\n",
            "81688   rodrial01    2001  52\n",
            "81785    sosasa01    2001  64\n",
            "83011   rodrial01    2002  57\n",
            "83166   thomeji01    2002  52\n",
            "86622   jonesan01    2005  51\n",
            "87902   howarry01    2006  58\n",
            "88246   ortizda01    2006  54\n",
            "89097   fieldpr01    2007  50\n",
            "89783   rodrial01    2007  54\n",
            "92930   bautijo02    2010  54\n",
            "97327   davisch02    2013  53\n",
            "103525  judgeaa01    2017  52\n",
            "104123  stantmi03    2017  59\n",
            "105900  alonspe01    2019  53\n",
            "\n",
            "Player with the lowest batting average in that season:\n",
            "nameFirst         Pete\n",
            "nameLast        Alonso\n",
            "playerID     alonspe01\n",
            "Name: 279, dtype: object\n"
          ]
        }
      ]
    },
    {
      "cell_type": "markdown",
      "source": [
        "Question 2 - NYC Flights"
      ],
      "metadata": {
        "id": "X2xfjEPD2vds"
      }
    },
    {
      "cell_type": "code",
      "source": [
        "\n",
        "# Part a)\n",
        "\n",
        "# Loads data\n",
        "flights = pd.read_csv(\"https://raw.githubusercontent.com/gjm112/DSCI401/main/data/flights.csv\")\n",
        "airlines = pd.read_csv(\"https://raw.githubusercontent.com/gjm112/DSCI401/main/data/airlines.csv\")\n",
        "planes = pd.read_csv(\"https://raw.githubusercontent.com/gjm112/DSCI401/main/data/planes.csv\")\n",
        "\n",
        "# Filters for the flights that flew in 2013 from NYC\n",
        "flights_2013 = flights[(flights['year'] == 2013) & (flights['origin'].isin(['JFK', 'LGA', 'EWR']))]\n",
        "\n",
        "# Left joins flights_2013 with planes data\n",
        "flights_2013 = flights_2013.merge(planes, left_on='tailnum', right_on='tailnum', how='left')\n",
        "\n",
        "# Finds the oldest plane by tail number\n",
        "oldest_plane = flights_2013.groupby('tailnum')['year_y'].min().reset_index()\n",
        "oldest_plane = oldest_plane.sort_values(by='year_y').dropna()\n",
        "\n",
        "# Shows the result\n",
        "print(oldest_plane.iloc[0])\n"
      ],
      "metadata": {
        "colab": {
          "base_uri": "https://localhost:8080/"
        },
        "id": "pOS3Wjhn2uIM",
        "outputId": "bd44e08f-95d6-4ec8-fa41-e5b6c88f9169"
      },
      "execution_count": 29,
      "outputs": [
        {
          "output_type": "stream",
          "name": "stdout",
          "text": [
            "tailnum    N381AA\n",
            "year_y     1956.0\n",
            "Name: 1071, dtype: object\n"
          ]
        }
      ]
    },
    {
      "cell_type": "code",
      "source": [
        "\n",
        "# Part b)\n",
        "\n",
        "# Filters for flights from NYC\n",
        "nyc_flights = flights[flights['origin'].isin(['JFK', 'LGA', 'EWR'])]\n",
        "\n",
        "# Finds unique tail numbers of planes that flew from NYC\n",
        "unique_tailnums = nyc_flights['tailnum'].unique()\n",
        "\n",
        "# Filters the planes table to get the airplanes included in it\n",
        "planes_included = planes[planes['tailnum'].isin(unique_tailnums)]\n",
        "\n",
        "# Count the number of airplanes\n",
        "num_airplanes_included = (planes_included)\n",
        "\n",
        "print(\"Number of airplanes that flew from New York City and are included in the planes table:\", num_airplanes_included)\n"
      ],
      "metadata": {
        "id": "Ytd076fq23R-",
        "colab": {
          "base_uri": "https://localhost:8080/"
        },
        "outputId": "a69e8209-2e76-413a-b01e-90a93848640d"
      },
      "execution_count": 27,
      "outputs": [
        {
          "output_type": "stream",
          "name": "stdout",
          "text": [
            "Number of airplanes that flew from New York City and are included in the planes table: Unnamed: 0      3322\n",
            "tailnum         3322\n",
            "year            3252\n",
            "type            3322\n",
            "manufacturer    3322\n",
            "model           3322\n",
            "engines         3322\n",
            "seats           3322\n",
            "speed             23\n",
            "engine          3322\n",
            "dtype: int64\n"
          ]
        }
      ]
    },
    {
      "cell_type": "markdown",
      "source": [
        "Question 3 - Pivot Wider"
      ],
      "metadata": {
        "id": "WYJ22J584Yaj"
      }
    },
    {
      "cell_type": "code",
      "source": [
        "import pandas as pd\n",
        "\n",
        "# Create the original data frame\n",
        "dat = pd.DataFrame({\n",
        "    'grp': ['A', 'A', 'B', 'B'],\n",
        "    'sex': ['F', 'M', 'F', 'M'],\n",
        "    'meanL': [0.225, 0.47, 0.325, 0.547],\n",
        "    'sdL': [0.106, 0.325, 0.106, 0.308],\n",
        "    'meanR': [0.34, 0.57, 0.4, 0.647],\n",
        "    'sdR': [0.0849, 0.325, 0.0707, 0.274]\n",
        "})\n",
        "\n",
        "# Pivot the data frame to wide format\n",
        "wide_dat = dat.pivot(index='grp', columns='sex', values=['meanL', 'sdL', 'meanR', 'sdR'])\n",
        "\n",
        "# Rename the columns to match the desired format\n",
        "wide_dat.columns = [f\"{col[1]}.{col[0]}\" for col in wide_dat.columns]\n",
        "\n",
        "# Reset the index\n",
        "wide_dat.reset_index(inplace=True)\n",
        "\n",
        "# Display the result\n",
        "print(wide_dat)\n",
        "\n"
      ],
      "metadata": {
        "colab": {
          "base_uri": "https://localhost:8080/"
        },
        "id": "zbLoR7EA6-OW",
        "outputId": "d4683e92-4ee0-4b62-9db5-1af0069f81a5"
      },
      "execution_count": 13,
      "outputs": [
        {
          "output_type": "stream",
          "name": "stdout",
          "text": [
            "  grp  F.meanL  M.meanL  F.sdL  M.sdL  F.meanR  M.meanR   F.sdR  M.sdR\n",
            "0   A    0.225    0.470  0.106  0.325     0.34    0.570  0.0849  0.325\n",
            "1   B    0.325    0.547  0.106  0.308     0.40    0.647  0.0707  0.274\n"
          ]
        }
      ]
    },
    {
      "cell_type": "markdown",
      "source": [
        "Question 4 - Remove & Pivot Longer"
      ],
      "metadata": {
        "id": "L3J1p_shDJsD"
      }
    },
    {
      "cell_type": "code",
      "source": [
        "import pandas as pd\n",
        "\n",
        "data = pd.read_csv(\"https://raw.githubusercontent.com/gjm112/DSCI401/main/data/pccc_icd10_dataset.csv\")\n",
        "\n",
        "pccc_icd10_dataset = pd.DataFrame(data)\n",
        "\n",
        "# Part (a): Remove columns labeled with \"g\" and a number\n",
        "pccc_icd10_dataset = pccc_icd10_dataset.loc[:, ~pccc_icd10_dataset.columns.str.match(r'g\\d+')]\n",
        "\n",
        "# Part (b): Convert to a long data set\n",
        "pccc_icd10_long = pd.melt(pccc_icd10_dataset, id_vars=['id'], var_name='type', value_name='code')\n",
        "\n",
        "# Display the result\n",
        "print(pccc_icd10_long)\n"
      ],
      "metadata": {
        "colab": {
          "base_uri": "https://localhost:8080/"
        },
        "id": "nQ0-HZL_DO4Z",
        "outputId": "819c023f-39ff-449d-90e2-5c92a21be81d"
      },
      "execution_count": 18,
      "outputs": [
        {
          "output_type": "stream",
          "name": "stdout",
          "text": [
            "         id  type     code\n",
            "0         1   dx1  S9410XS\n",
            "1         2   dx1      NaN\n",
            "2         3   dx1      NaN\n",
            "3         4   dx1  S7226XK\n",
            "4         5   dx1  S92246A\n",
            "...     ...   ...      ...\n",
            "19995   996  pc10  BR49ZZZ\n",
            "19996   997  pc10  0T184KD\n",
            "19997   998  pc10      NaN\n",
            "19998   999  pc10  0N940ZZ\n",
            "19999  1000  pc10  0NS5XZZ\n",
            "\n",
            "[20000 rows x 3 columns]\n"
          ]
        }
      ]
    }
  ]
}